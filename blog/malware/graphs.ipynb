#@vrandkode
%matplotlib inline
import matplotlib.pyplot as plt

# Pie chart, where the slices will be ordered and plotted counter-clockwise:
labels = '(.DLL) Win32 Dynamic Link Library ', '(.EXE) Win32 Executable ', '(.EXE) OS/2 Executable', '(.EXE) Generic Win/DOS Executable ', '(.EXE) DOS Executable Generic '
sizes = [38.4, 26.3, 11.8, 11.6, 11.6]
explode = (0.1, 0, 0, 0,0)  # only "explode" the 2nd slice (i.e. 'Hogs')
fig1, ax1 = plt.subplots()
fig1.figsize=(150,10)
ax1.pie(sizes, explode=explode, labels=labels, autopct='%1.1f%%',
        shadow=True, startangle=90)
ax1.axis('equal')
plt.show()
